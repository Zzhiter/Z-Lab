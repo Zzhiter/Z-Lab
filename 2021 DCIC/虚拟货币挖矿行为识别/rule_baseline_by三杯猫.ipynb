{
 "cells": [
  {
   "cell_type": "code",
   "execution_count": 1,
   "metadata": {},
   "outputs": [],
   "source": [
    "import os\n",
    "import numpy as np\n",
    "import pandas as pd\n",
    "from sklearn.metrics import f1_score\n"
   ]
  },
  {
   "cell_type": "code",
   "execution_count": 10,
   "metadata": {},
   "outputs": [],
   "source": [
    "data_path = './data'\n",
    "ycol = 'IS_FLAG'\n",
    "train_archive = pd.read_csv(os.path.join(data_path, 'training_dataset/训练组_比特币挖矿_档案明细（20211220）.csv'), encoding='gb18030', index_col=0)\n",
    "train_monthly_electricity = pd.read_csv(os.path.join(data_path, 'training_dataset/训练组_比特币挖矿_月用电明细（20211217）.csv'))\n",
    "test_archive = pd.read_csv(os.path.join(data_path, 'test_dataset/测试组_比特币挖矿_档案明细（20211220）.csv'), encoding='gb18030')\n",
    "test_monthly_electricity = pd.read_csv(os.path.join(data_path, 'test_dataset/测试组_比特币挖矿_月用电明细（20211217）.csv'))\n",
    "\n",
    "archive = pd.concat([train_archive, test_archive], axis=0, ignore_index=True)\n",
    "monthly_electricity = pd.concat([train_monthly_electricity, test_monthly_electricity], axis=0, ignore_index=True)"
   ]
  },
  {
   "cell_type": "code",
   "execution_count": 14,
   "metadata": {},
   "outputs": [
    {
     "data": {
      "text/html": [
       "<div>\n",
       "<style scoped>\n",
       "    .dataframe tbody tr th:only-of-type {\n",
       "        vertical-align: middle;\n",
       "    }\n",
       "\n",
       "    .dataframe tbody tr th {\n",
       "        vertical-align: top;\n",
       "    }\n",
       "\n",
       "    .dataframe thead th {\n",
       "        text-align: right;\n",
       "    }\n",
       "</style>\n",
       "<table border=\"1\" class=\"dataframe\">\n",
       "  <thead>\n",
       "    <tr style=\"text-align: right;\">\n",
       "      <th></th>\n",
       "      <th>ID</th>\n",
       "      <th>pq_z</th>\n",
       "      <th>pq_cv</th>\n",
       "    </tr>\n",
       "  </thead>\n",
       "  <tbody>\n",
       "    <tr>\n",
       "      <th>0</th>\n",
       "      <td>179404030</td>\n",
       "      <td>1592.772727</td>\n",
       "      <td>0.912731</td>\n",
       "    </tr>\n",
       "    <tr>\n",
       "      <th>1</th>\n",
       "      <td>179404040</td>\n",
       "      <td>508.590909</td>\n",
       "      <td>1.732051</td>\n",
       "    </tr>\n",
       "    <tr>\n",
       "      <th>2</th>\n",
       "      <td>179404046</td>\n",
       "      <td>2620.000000</td>\n",
       "      <td>0.672467</td>\n",
       "    </tr>\n",
       "    <tr>\n",
       "      <th>3</th>\n",
       "      <td>179404049</td>\n",
       "      <td>1524.318182</td>\n",
       "      <td>0.969545</td>\n",
       "    </tr>\n",
       "    <tr>\n",
       "      <th>4</th>\n",
       "      <td>179404054</td>\n",
       "      <td>450.136364</td>\n",
       "      <td>1.732051</td>\n",
       "    </tr>\n",
       "    <tr>\n",
       "      <th>...</th>\n",
       "      <td>...</td>\n",
       "      <td>...</td>\n",
       "      <td>...</td>\n",
       "    </tr>\n",
       "    <tr>\n",
       "      <th>24214</th>\n",
       "      <td>2878310631</td>\n",
       "      <td>102.772727</td>\n",
       "      <td>1.123693</td>\n",
       "    </tr>\n",
       "    <tr>\n",
       "      <th>24215</th>\n",
       "      <td>2878334859</td>\n",
       "      <td>155.590909</td>\n",
       "      <td>0.954452</td>\n",
       "    </tr>\n",
       "    <tr>\n",
       "      <th>24216</th>\n",
       "      <td>2880078775</td>\n",
       "      <td>667.545455</td>\n",
       "      <td>1.062154</td>\n",
       "    </tr>\n",
       "    <tr>\n",
       "      <th>24217</th>\n",
       "      <td>2880249132</td>\n",
       "      <td>587.000000</td>\n",
       "      <td>1.537137</td>\n",
       "    </tr>\n",
       "    <tr>\n",
       "      <th>24218</th>\n",
       "      <td>2880712108</td>\n",
       "      <td>911.181818</td>\n",
       "      <td>1.021790</td>\n",
       "    </tr>\n",
       "  </tbody>\n",
       "</table>\n",
       "<p>24219 rows × 3 columns</p>\n",
       "</div>"
      ],
      "text/plain": [
       "               ID         pq_z     pq_cv\n",
       "0       179404030  1592.772727  0.912731\n",
       "1       179404040   508.590909  1.732051\n",
       "2       179404046  2620.000000  0.672467\n",
       "3       179404049  1524.318182  0.969545\n",
       "4       179404054   450.136364  1.732051\n",
       "...           ...          ...       ...\n",
       "24214  2878310631   102.772727  1.123693\n",
       "24215  2878334859   155.590909  0.954452\n",
       "24216  2880078775   667.545455  1.062154\n",
       "24217  2880249132   587.000000  1.537137\n",
       "24218  2880712108   911.181818  1.021790\n",
       "\n",
       "[24219 rows x 3 columns]"
      ]
     },
     "execution_count": 14,
     "metadata": {},
     "output_type": "execute_result"
    }
   ],
   "source": [
    "# 挖矿行为的主要特点是耗电量较高, 且峰电量, 谷电量, 平电量的数据比较均衡。\n",
    "pq_col = ['pq_f', 'pq_g', 'pq_p']\n",
    "monthly_electricity['pq_cv'] = monthly_electricity[pq_col].std(axis=1) / (monthly_electricity[pq_col].mean(axis=1) + 1e-5)\n",
    "pq = monthly_electricity.groupby('id').agg({'pq_z':'mean', 'pq_cv':'mean'}).reset_index()\n",
    "pq.columns = ['ID', 'pq_z', 'pq_cv']\n",
    "pq"
   ]
  },
  {
   "cell_type": "code",
   "execution_count": null,
   "metadata": {},
   "outputs": [],
   "source": [
    "data = pd.merge(archive, pq, on='ID', how='left')\n",
    "train = data[~data[ycol].isnull()].copy()\n",
    "test = data[data[ycol].isnull()].copy()"
   ]
  },
  {
   "cell_type": "code",
   "execution_count": 15,
   "metadata": {},
   "outputs": [
    {
     "name": "stdout",
     "output_type": "stream",
     "text": [
      "训练集预测 13 个 1\n",
      "训练集 f1: 0.847628\n"
     ]
    }
   ],
   "source": [
    "train['pre'] = 0\n",
    "train.loc[(train['pq_cv']<0.085) & (train['pq_z']>4500), 'pre'] = 1\n",
    "print(f\"训练集预测 {sum(train['pre'])} 个 1\")\n",
    "valid_f1_score = f1_score(train[ycol], train['pre'], average='macro')\n",
    "print(f\"训练集 f1: {valid_f1_score:.6f}\")"
   ]
  },
  {
   "cell_type": "code",
   "execution_count": 6,
   "metadata": {},
   "outputs": [
    {
     "name": "stdout",
     "output_type": "stream",
     "text": [
      "测试集预测 44 个 1\n"
     ]
    }
   ],
   "source": [
    "test[ycol] = 0\n",
    "test.loc[(test['pq_cv']<0.085) & (test['pq_z']>4500), ycol] = 1\n",
    "test[['ID', ycol]].rename(columns={'ID': 'id', ycol: 'label'}).to_csv(f'./results/submit.csv', index=False)\n",
    "print(f\"测试集预测 {sum(test[ycol])} 个 1\")"
   ]
  },
  {
   "cell_type": "code",
   "execution_count": null,
   "metadata": {},
   "outputs": [],
   "source": []
  }
 ],
 "metadata": {
  "interpreter": {
   "hash": "b5dc8de9abe4742c0295b0cd6993216dcc4fd6ef5ea4d25ae0f294d8e8069eef"
  },
  "kernelspec": {
   "display_name": "Python 3.8.11 ('ML')",
   "language": "python",
   "name": "python3"
  },
  "language_info": {
   "codemirror_mode": {
    "name": "ipython",
    "version": 3
   },
   "file_extension": ".py",
   "mimetype": "text/x-python",
   "name": "python",
   "nbconvert_exporter": "python",
   "pygments_lexer": "ipython3",
   "version": "3.8.11"
  },
  "orig_nbformat": 4
 },
 "nbformat": 4,
 "nbformat_minor": 2
}
